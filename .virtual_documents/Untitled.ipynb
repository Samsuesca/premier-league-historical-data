import pandas as pd
import numpy as np

# Cargar el dataset
df = pd.read_csv('premier_league_completo_limpio.csv')

# Mostrar las primeras filas para tener una idea general
df.head()





# Mostrar información general del DataFrame
print(df.info())

# Contar valores nulos por columna
print("\nValores nulos por columna:")
print(df.isnull().sum())

# Resumen estadístico
print("\nResumen estadístico:")
print(df.describe())


# Calcular la suma esperada de partidos jugados
df['Suma_GEP'] = df['G'] + df['E'] + df['P']
df['PJ_Esperado'] = df['PJ']  # Para comparar

# Comparar con PJ real
inconsistencias_pj = df[df['Suma_GEP'] != df['PJ']]
print("\nFilas con inconsistencias en PJ (G + E + P != PJ):")
print(inconsistencias_pj[['Temporada', 'Equipo', 'PJ', 'G', 'E', 'P', 'Suma_GEP']])

# Verificar puntos (Pts = 3*G + E)
df['Pts_Esperado'] = 3 * df['G'] + df['E']
inconsistencias_pts = df[df['Pts_Esperado'] != df['Pts']]
print("\nFilas con inconsistencias en Pts (3*G + E != Pts):")
print(inconsistencias_pts[['Temporada', 'Equipo', 'Pts', 'G', 'E', 'Pts_Esperado']])


# Filtrar filas con Dif nulo
filas_con_nan = df[df['Dif'].isna()]
print("\nFilas con Dif nulo:")
print(filas_con_nan[['Temporada', 'Equipo', 'GF', 'GC', 'Dif']])

# Calcular Dif esperada
df['Dif_Esperada'] = df['GF'] - df['GC']
inconsistencias_dif = df[df['Dif_Esperada'] != df['Dif']]
print("\nFilas con inconsistencias en Dif (GF - GC != Dif):")
print(inconsistencias_dif[['Temporada', 'Equipo', 'GF', 'GC', 'Dif', 'Dif_Esperada']])

# Contar NaN por temporada
nan_por_temporada = df.groupby('Temporada')['Dif'].apply(lambda x: x.isna().sum())
print("\nCantidad de NaN en Dif por temporada:")
print(nan_por_temporada)


# Filtrar filas con Dif nulo
filas_con_nan = df[df['Dif'].isna()]
print("\nFilas con Dif nulo:")
print(filas_con_nan[['Temporada', 'Equipo', 'GF', 'GC', 'Dif']])

# Calcular Dif esperada
df['Dif_Esperada'] = df['GF'] - df['GC']
inconsistencias_dif = df[df['Dif_Esperada'] != df['Dif']]
print("\nFilas con inconsistencias en Dif (GF - GC != Dif):")
print(inconsistencias_dif[['Temporada', 'Equipo', 'GF', 'GC', 'Dif', 'Dif_Esperada']])

# Contar NaN por temporada
nan_por_temporada = df.groupby('Temporada')['Dif'].apply(lambda x: x.isna().sum())
print("\nCantidad de NaN en Dif por temporada:")
print(nan_por_temporada)


# Contar registros por fuente
print("\nDistribución por fuente:")
print(df['Fuente'].value_counts())

# Filtrar por fuente y verificar inconsistencias
df_es = df[df['Fuente'] == 'ES']
df_en = df[df['Fuente'] == 'EN']

print("\nInconsistencias en ES (Pts != 3*G + E):")
print(df_es[df_es['Pts_Esperado'] != df_es['Pts']][['Temporada', 'Equipo', 'Pts', 'G', 'E']])

print("\nInconsistencias en EN (Pts != 3*G + E):")
print(df_en[df_en['Pts_Esperado'] != df_en['Pts']][['Temporada', 'Equipo', 'Pts', 'G', 'E']])


import matplotlib.pyplot as plt

# Gráfico de NaN en Dif por temporada
nan_por_temporada.plot(kind='bar')
plt.xlabel('Temporada')
plt.ylabel('Cantidad de NaN')
plt.show()

# Histograma de Pts para detectar valores anómalos
df['Pts'].hist(bins=20)
plt.xlabel('Puntos')
plt.ylabel('Frecuencia')
plt.show()


# Filtrar 2020-21
df_2020 = df[df['Temporada'] == '2020-21']

# Verificar shift
print("\nDatos 2020-21:")
print(df_2020[['Equipo', 'PJ', 'G', 'E', 'P', 'Pts', 'GF', 'GC', 'Dif']])

# Calcular y comparar
df_2020['Suma_GEP'] = df_2020['G'] + df_2020['E'] + df_2020['P']
df_2020['Pts_Esperado'] = 3 * df_2020['G'] + df_2020['E']
df_2020['Dif_Esperada'] = df_2020['GF'] - df_2020['GC']

print("\nInconsistencias en 2020-21:")
print(df_2020[df_2020['Suma_GEP'] != df_2020['PJ']][['Equipo', 'PJ', 'Suma_GEP']])
print(df_2020[df_2020['Pts_Esperado'] != df_2020['Pts']][['Equipo', 'Pts', 'Pts_Esperado']])
print(df_2020[df_2020['Dif_Esperada'] != df_2020['Dif']][['Equipo', 'GF', 'GC', 'Dif', 'Dif_Esperada']])
print(df.groupby('Fuente').apply(lambda x: (x['Suma_GEP'] != x['PJ']).sum()))
