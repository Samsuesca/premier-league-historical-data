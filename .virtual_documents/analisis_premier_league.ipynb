





import pandas as pd
import numpy as np
import matplotlib.pyplot as plt
import seaborn as sns
from pathlib import Path

# Configuración de visualización
plt.style.use('seaborn-v0_8-darkgrid')
sns.set_palette('husl')
pd.set_option('display.max_columns', None)
pd.set_option('display.max_rows', 100)

print("✓ Librerías importadas")





# Ejecutar el scraper
%run scraper_robusto.py





# Cargar datos completos
df = pd.read_csv('premier_league_completo_limpio.csv')

print(f"📊 Dataset cargado")
print(f"   Registros: {len(df):,}")
print(f"   Columnas: {len(df.columns)}")
print(f"   Temporadas: {df['Temporada'].nunique()}")
print(f"   Equipos únicos: {df['Equipo'].nunique()}")

# Mostrar primeras filas
df.head(10)


# Información del dataset
df.info()





# Verificar valores nulos
print("Valores nulos por columna:")
print(df.isnull().sum())
print(f"\nTotal de valores nulos: {df.isnull().sum().sum()}")


# Verificar temporadas
print("Temporadas en la base de datos:")
temporadas = df['Temporada'].value_counts().sort_index()
print(temporadas)

# Verificar si hay temporadas faltantes
all_seasons = [f"{y}-{str(y+1)[-2:]}" for y in range(1992, 2025)]
existing_seasons = df['Temporada'].unique().tolist()
missing_seasons = [s for s in all_seasons if s not in existing_seasons]

if missing_seasons:
    print(f"\n⚠️  Temporadas faltantes: {', '.join(missing_seasons)}")
else:
    print("\n✓ Todas las temporadas presentes")


# Verificar equipos por temporada
equipos_por_temporada = df.groupby('Temporada').size().sort_index()

print("Equipos por temporada:")
print(equipos_por_temporada)

# Verificar anomalías
anomalias = equipos_por_temporada[(equipos_por_temporada < 20) | (equipos_por_temporada > 22)]
if len(anomalias) > 0:
    print("\n⚠️  Temporadas con número inusual de equipos:")
    print(anomalias)
else:
    print("\n✓ Todas las temporadas tienen 20-22 equipos")





# Cargar tracking de equipos
tracking_df = pd.read_csv('premier_league_tracking_equipos.csv')

print(f"📊 Tracking de equipos cargado")
print(f"   Equipos únicos: {len(tracking_df)}")

# Mostrar top 15 equipos
print("\nTop 15 equipos por temporadas jugadas:")
tracking_df[['Equipo', 'Total_Temporadas', 'Mejor_Posicion', 'Peor_Posicion']].head(15)





# Equipos que han estado en TODAS las temporadas
total_temporadas = df['Temporada'].nunique()
siempre_premier = tracking_df[tracking_df['Total_Temporadas'] == total_temporadas]

print(f"Equipos que han estado en TODAS las {total_temporadas} temporadas:")
print(siempre_premier[['Equipo', 'Mejor_Posicion', 'Peor_Posicion']].to_string(index=False))


# Campeones por temporada
campeones = df[df['Pos'] == 1][['Temporada', 'Equipo', 'Pts', 'GF', 'GC']].sort_values('Temporada')

print("Campeones de Premier League por temporada:")
print(campeones.to_string(index=False))


# Número de títulos por equipo
titulos = campeones['Equipo'].value_counts().sort_values(ascending=False)

print("Títulos de Premier League por equipo:")
for equipo, count in titulos.items():
    print(f"  {equipo}: {count} {'título' if count == 1 else 'títulos'}")





# Gráfico: Títulos por equipo
plt.figure(figsize=(12, 6))
titulos.plot(kind='bar', color='steelblue')
plt.title('Títulos de Premier League por Equipo (1992-2024)', fontsize=14, fontweight='bold')
plt.xlabel('Equipo', fontsize=12)
plt.ylabel('Número de Títulos', fontsize=12)
plt.xticks(rotation=45, ha='right')
plt.tight_layout()
plt.grid(axis='y', alpha=0.3)
plt.show()


# Gráfico: Puntos del campeón por temporada
plt.figure(figsize=(14, 6))
plt.plot(campeones['Temporada'], campeones['Pts'], marker='o', linewidth=2, markersize=6)
plt.title('Puntos del Campeón por Temporada', fontsize=14, fontweight='bold')
plt.xlabel('Temporada', fontsize=12)
plt.ylabel('Puntos', fontsize=12)
plt.xticks(rotation=45, ha='right')
plt.grid(alpha=0.3)
plt.tight_layout()
plt.show()





def ver_historial_equipo(equipo_nombre):
    """Muestra el historial completo de un equipo"""
    
    # Buscar equipos que coincidan
    equipos_disponibles = df['Equipo'].unique()
    coincidencias = [e for e in equipos_disponibles if equipo_nombre.lower() in e.lower()]
    
    if not coincidencias:
        print(f"No se encontró ningún equipo con '{equipo_nombre}'")
        return
    
    if len(coincidencias) > 1:
        print(f"Se encontraron {len(coincidencias)} equipos:")
        for e in coincidencias:
            print(f"  - {e}")
        print("\nPor favor, especifica mejor el nombre del equipo")
        return
    
    equipo = coincidencias[0]
    historial = df[df['Equipo'] == equipo].sort_values('Temporada')
    
    print(f"\n{'='*70}")
    print(f"HISTORIAL: {equipo}")
    print(f"{'='*70}")
    print(f"Temporadas jugadas: {len(historial)}")
    print(f"Mejor posición: {historial['Pos'].min()}° (Temporada {historial[historial['Pos'] == historial['Pos'].min()]['Temporada'].values[0]})")
    print(f"Peor posición: {historial['Pos'].max()}° (Temporada {historial[historial['Pos'] == historial['Pos'].max()]['Temporada'].values[0]})")
    print(f"Promedio de posición: {historial['Pos'].mean():.1f}°")
    print(f"\nHistorial completo:")
    print(historial[['Temporada', 'Pos', 'PJ', 'G', 'E', 'P', 'Pts', 'GF', 'GC']].to_string(index=False))
    
    return historial

# Ejemplo de uso
# ver_historial_equipo('Arsenal')


def ver_temporada(temporada):
    """Muestra la clasificación completa de una temporada"""
    
    temp_data = df[df['Temporada'] == temporada].sort_values('Pos')
    
    if len(temp_data) == 0:
        print(f"No se encontraron datos para la temporada {temporada}")
        return
    
    print(f"\n{'='*70}")
    print(f"PREMIER LEAGUE - TEMPORADA {temporada}")
    print(f"{'='*70}")
    print(temp_data[['Pos', 'Equipo', 'PJ', 'G', 'E', 'P', 'Pts', 'GF', 'GC', 'Dif']].to_string(index=False))
    
    return temp_data

# Ejemplo de uso
# ver_temporada('2015-16')  # Temporada del Leicester


def comparar_equipos(*equipos):
    """Compara el historial de múltiples equipos"""
    
    comparacion = []
    
    for equipo_nombre in equipos:
        coincidencias = [e for e in df['Equipo'].unique() if equipo_nombre.lower() in e.lower()]
        
        if len(coincidencias) == 1:
            equipo = coincidencias[0]
            historial = df[df['Equipo'] == equipo]
            
            comparacion.append({
                'Equipo': equipo,
                'Temporadas': len(historial),
                'Títulos': len(historial[historial['Pos'] == 1]),
                'Top 4': len(historial[historial['Pos'] <= 4]),
                'Mejor Pos': historial['Pos'].min(),
                'Peor Pos': historial['Pos'].max(),
                'Promedio Pos': historial['Pos'].mean(),
                'Total Pts': historial['Pts'].sum(),
                'Promedio Pts': historial['Pts'].mean()
            })
    
    comp_df = pd.DataFrame(comparacion)
    print("\nComparación de equipos:")
    print(comp_df.to_string(index=False))
    
    return comp_df

# Ejemplo de uso
# comparar_equipos('Manchester United', 'Arsenal', 'Chelsea', 'Liverpool')





# Top 10 mejores temporadas por puntos
print("Top 10 mejores temporadas por puntos:")
mejores_temporadas = df.nlargest(10, 'Pts')[['Temporada', 'Equipo', 'Pos', 'Pts', 'GF', 'GC']]
print(mejores_temporadas.to_string(index=False))


# Equipos descendidos por temporada (posiciones 18-22)
descendidos = df[df['Pos'] >= 18].sort_values(['Temporada', 'Pos'])
print(f"\nTotal de equipos descendidos: {len(descendidos)}")
print("\nDescensos por temporada:")
print(descendidos[['Temporada', 'Pos', 'Equipo', 'Pts']].to_string(index=False))


# Análisis de goles
print("Top 10 equipos con más goles en una temporada:")
mas_goles = df.nlargest(10, 'GF')[['Temporada', 'Equipo', 'GF', 'Pos']]
print(mas_goles.to_string(index=False))





# Crear resumen ejecutivo
resumen = {
    'Total_Temporadas': df['Temporada'].nunique(),
    'Total_Equipos_Unicos': df['Equipo'].nunique(),
    'Total_Partidos': df['PJ'].sum(),
    'Total_Goles': df['GF'].sum(),
    'Equipos_Siempre_Premier': len(siempre_premier),
    'Campeones_Diferentes': campeones['Equipo'].nunique()
}

print("\nRESUMEN EJECUTIVO - PREMIER LEAGUE")
print("="*50)
for key, value in resumen.items():
    print(f"{key.replace('_', ' ')}: {value:,}")

# Guardar resumen
pd.DataFrame([resumen]).to_csv('resumen_premier_league.csv', index=False)
print("\n✓ Resumen guardado en 'resumen_premier_league.csv'")





# Aquí puedes hacer tus propias consultas
# Ejemplo: Ver historial del Manchester United
# ver_historial_equipo('Manchester United')


# Ejemplo: Ver la temporada 2015-16 (Leicester campeón)
# ver_temporada('2015-16')


# Ejemplo: Comparar los 'Big 6'
# comparar_equipos('Manchester United', 'Manchester City', 'Liverpool', 'Arsenal', 'Chelsea', 'Tottenham')
