{
 "cells": [
  {
   "cell_type": "markdown",
   "metadata": {},
   "source": [
    "# Premier League - Análisis Histórico (1992-2025)\n",
    "\n",
    "Este notebook contiene el análisis completo de datos históricos de la Premier League desde su creación."
   ]
  },
  {
   "cell_type": "markdown",
   "metadata": {},
   "source": [
    "## 1. Importar librerías y configuración"
   ]
  },
  {
   "cell_type": "code",
   "execution_count": 1,
   "metadata": {},
   "outputs": [
    {
     "name": "stdout",
     "output_type": "stream",
     "text": [
      "✓ Librerías importadas\n"
     ]
    }
   ],
   "source": [
    "import pandas as pd\n",
    "import numpy as np\n",
    "import matplotlib.pyplot as plt\n",
    "import seaborn as sns\n",
    "from pathlib import Path\n",
    "\n",
    "# Configuración de visualización\n",
    "plt.style.use('seaborn-v0_8-darkgrid')\n",
    "sns.set_palette('husl')\n",
    "pd.set_option('display.max_columns', None)\n",
    "pd.set_option('display.max_rows', 100)\n",
    "\n",
    "print(\"✓ Librerías importadas\")"
   ]
  },
  {
   "cell_type": "markdown",
   "metadata": {},
   "source": [
    "## 2. Ejecutar el scraper robusto"
   ]
  },
  {
   "cell_type": "code",
   "execution_count": 2,
   "metadata": {},
   "outputs": [
    {
     "name": "stderr",
     "output_type": "stream",
     "text": [
      "2025-10-18 21:22:36,462 - INFO - ======================================================================\n",
      "2025-10-18 21:22:36,462 - INFO - INICIANDO EXTRACCIÓN DE DATOS DE PREMIER LEAGUE\n",
      "2025-10-18 21:22:36,463 - INFO - ======================================================================\n",
      "2025-10-18 21:22:36,463 - INFO - Extrayendo temporada 1992-93...\n",
      "2025-10-18 21:22:37,017 - INFO - [ES] ✓ 1992-93: 22 equipos extraídos\n",
      "2025-10-18 21:22:37,823 - INFO - Extrayendo temporada 1993-94...\n",
      "2025-10-18 21:22:38,254 - INFO - [ES] ✓ 1993-94: 22 equipos extraídos\n",
      "2025-10-18 21:22:39,060 - INFO - Extrayendo temporada 1994-95...\n",
      "2025-10-18 21:22:39,553 - INFO - [ES] ✓ 1994-95: 22 equipos extraídos\n",
      "2025-10-18 21:22:40,360 - INFO - Extrayendo temporada 1995-96...\n",
      "2025-10-18 21:22:40,778 - INFO - [ES] ✓ 1995-96: 20 equipos extraídos\n",
      "2025-10-18 21:22:41,585 - INFO - Extrayendo temporada 1996-97...\n",
      "2025-10-18 21:22:42,000 - INFO - [ES] ✓ 1996-97: 20 equipos extraídos\n",
      "2025-10-18 21:22:42,806 - INFO - Extrayendo temporada 1997-98...\n",
      "2025-10-18 21:22:43,224 - INFO - [ES] ✓ 1997-98: 20 equipos extraídos\n",
      "2025-10-18 21:22:44,030 - INFO - Extrayendo temporada 1998-99...\n",
      "2025-10-18 21:22:44,439 - INFO - [ES] ✓ 1998-99: 20 equipos extraídos\n",
      "2025-10-18 21:22:45,245 - INFO - Extrayendo temporada 1999-00...\n",
      "2025-10-18 21:22:45,555 - WARNING - [ES] No se encontró tabla de clasificación válida en https://es.wikipedia.org/wiki/Premier_League_1999-00\n",
      "2025-10-18 21:22:45,556 - INFO -   Reintentando con Wikipedia EN...\n",
      "2025-10-18 21:22:46,213 - INFO - [EN] ✓ 1999-00: 20 equipos extraídos\n",
      "2025-10-18 21:22:47,020 - INFO - Extrayendo temporada 2000-01...\n",
      "2025-10-18 21:22:47,434 - WARNING - [ES] No se encontró tabla de clasificación válida en https://es.wikipedia.org/wiki/Premier_League_2000-01\n",
      "2025-10-18 21:22:47,436 - INFO -   Reintentando con Wikipedia EN...\n",
      "2025-10-18 21:22:48,103 - INFO - [EN] ✓ 2000-01: 20 equipos extraídos\n",
      "2025-10-18 21:22:48,909 - INFO - Extrayendo temporada 2001-02...\n",
      "2025-10-18 21:22:49,321 - WARNING - [ES] No se encontró tabla de clasificación válida en https://es.wikipedia.org/wiki/Premier_League_2001-02\n",
      "2025-10-18 21:22:49,322 - INFO -   Reintentando con Wikipedia EN...\n",
      "2025-10-18 21:22:49,886 - INFO - [EN] ✓ 2001-02: 20 equipos extraídos\n",
      "2025-10-18 21:22:50,693 - INFO - Extrayendo temporada 2002-03...\n",
      "2025-10-18 21:22:51,231 - WARNING - [ES] No se encontró tabla de clasificación válida en https://es.wikipedia.org/wiki/Premier_League_2002-03\n",
      "2025-10-18 21:22:51,232 - INFO -   Reintentando con Wikipedia EN...\n",
      "2025-10-18 21:22:51,815 - INFO - [EN] ✓ 2002-03: 20 equipos extraídos\n",
      "2025-10-18 21:22:52,621 - INFO - Extrayendo temporada 2003-04...\n",
      "2025-10-18 21:22:53,046 - WARNING - [ES] No se encontró tabla de clasificación válida en https://es.wikipedia.org/wiki/Premier_League_2003-04\n",
      "2025-10-18 21:22:53,047 - INFO -   Reintentando con Wikipedia EN...\n",
      "2025-10-18 21:22:53,681 - INFO - [EN] ✓ 2003-04: 20 equipos extraídos\n",
      "2025-10-18 21:22:54,488 - INFO - Extrayendo temporada 2004-05...\n",
      "2025-10-18 21:22:54,919 - WARNING - [ES] No se encontró tabla de clasificación válida en https://es.wikipedia.org/wiki/Premier_League_2004-05\n",
      "2025-10-18 21:22:54,919 - INFO -   Reintentando con Wikipedia EN...\n",
      "2025-10-18 21:22:55,545 - INFO - [EN] ✓ 2004-05: 20 equipos extraídos\n",
      "2025-10-18 21:22:56,351 - INFO - Extrayendo temporada 2005-06...\n",
      "2025-10-18 21:22:56,751 - INFO - [ES] ✓ 2005-06: 20 equipos extraídos\n",
      "2025-10-18 21:22:57,566 - INFO - Extrayendo temporada 2006-07...\n",
      "2025-10-18 21:22:57,987 - INFO - [ES] ✓ 2006-07: 20 equipos extraídos\n",
      "2025-10-18 21:22:58,793 - INFO - Extrayendo temporada 2007-08...\n",
      "2025-10-18 21:22:59,315 - WARNING - [ES] No se encontró tabla de clasificación válida en https://es.wikipedia.org/wiki/Premier_League_2007-08\n",
      "2025-10-18 21:22:59,316 - INFO -   Reintentando con Wikipedia EN...\n",
      "2025-10-18 21:22:59,919 - INFO - [EN] ✓ 2007-08: 20 equipos extraídos\n",
      "2025-10-18 21:23:00,725 - INFO - Extrayendo temporada 2008-09...\n",
      "2025-10-18 21:23:01,180 - INFO - [ES] ✓ 2008-09: 20 equipos extraídos\n",
      "2025-10-18 21:23:01,986 - INFO - Extrayendo temporada 2009-10...\n",
      "2025-10-18 21:23:02,486 - INFO - [ES] ✓ 2009-10: 20 equipos extraídos\n",
      "2025-10-18 21:23:03,293 - INFO - Extrayendo temporada 2010-11...\n",
      "2025-10-18 21:23:03,805 - INFO - [ES] ✓ 2010-11: 20 equipos extraídos\n",
      "2025-10-18 21:23:04,611 - INFO - Extrayendo temporada 2011-12...\n",
      "2025-10-18 21:23:05,429 - WARNING - [ES] No se encontró tabla de clasificación válida en https://es.wikipedia.org/wiki/Premier_League_2011-12\n",
      "2025-10-18 21:23:05,430 - INFO -   Reintentando con Wikipedia EN...\n",
      "2025-10-18 21:23:06,066 - INFO - [EN] ✓ 2011-12: 20 equipos extraídos\n",
      "2025-10-18 21:23:06,872 - INFO - Extrayendo temporada 2012-13...\n",
      "2025-10-18 21:23:07,711 - WARNING - [ES] No se encontró tabla de clasificación válida en https://es.wikipedia.org/wiki/Premier_League_2012-13\n",
      "2025-10-18 21:23:07,712 - INFO -   Reintentando con Wikipedia EN...\n",
      "2025-10-18 21:23:08,406 - INFO - [EN] ✓ 2012-13: 20 equipos extraídos\n",
      "2025-10-18 21:23:09,213 - INFO - Extrayendo temporada 2013-14...\n",
      "2025-10-18 21:23:10,116 - WARNING - [ES] No se encontró tabla de clasificación válida en https://es.wikipedia.org/wiki/Premier_League_2013-14\n",
      "2025-10-18 21:23:10,117 - INFO -   Reintentando con Wikipedia EN...\n",
      "2025-10-18 21:23:10,844 - INFO - [EN] ✓ 2013-14: 20 equipos extraídos\n",
      "2025-10-18 21:23:11,650 - INFO - Extrayendo temporada 2014-15...\n",
      "2025-10-18 21:23:12,497 - WARNING - [ES] No se encontró tabla de clasificación válida en https://es.wikipedia.org/wiki/Premier_League_2014-15\n",
      "2025-10-18 21:23:12,498 - INFO -   Reintentando con Wikipedia EN...\n",
      "2025-10-18 21:23:13,172 - INFO - [EN] ✓ 2014-15: 20 equipos extraídos\n",
      "2025-10-18 21:23:13,978 - INFO - Extrayendo temporada 2015-16...\n",
      "2025-10-18 21:23:14,869 - WARNING - [ES] No se encontró tabla de clasificación válida en https://es.wikipedia.org/wiki/Premier_League_2015-16\n",
      "2025-10-18 21:23:14,870 - INFO -   Reintentando con Wikipedia EN...\n",
      "2025-10-18 21:23:15,621 - INFO - [EN] ✓ 2015-16: 20 equipos extraídos\n",
      "2025-10-18 21:23:16,427 - INFO - Extrayendo temporada 2016-17...\n",
      "2025-10-18 21:23:17,233 - WARNING - [ES] No se encontró tabla de clasificación válida en https://es.wikipedia.org/wiki/Premier_League_2016-17\n",
      "2025-10-18 21:23:17,234 - INFO -   Reintentando con Wikipedia EN...\n",
      "2025-10-18 21:23:17,930 - INFO - [EN] ✓ 2016-17: 20 equipos extraídos\n",
      "2025-10-18 21:23:18,736 - INFO - Extrayendo temporada 2017-18...\n",
      "2025-10-18 21:23:19,633 - WARNING - [ES] No se encontró tabla de clasificación válida en https://es.wikipedia.org/wiki/Premier_League_2017-18\n",
      "2025-10-18 21:23:19,634 - INFO -   Reintentando con Wikipedia EN...\n",
      "2025-10-18 21:23:20,411 - INFO - [EN] ✓ 2017-18: 20 equipos extraídos\n",
      "2025-10-18 21:23:21,217 - INFO - Extrayendo temporada 2018-19...\n",
      "2025-10-18 21:23:22,066 - WARNING - [ES] No se encontró tabla de clasificación válida en https://es.wikipedia.org/wiki/Premier_League_2018-19\n",
      "2025-10-18 21:23:22,067 - INFO -   Reintentando con Wikipedia EN...\n",
      "2025-10-18 21:23:22,845 - INFO - [EN] ✓ 2018-19: 20 equipos extraídos\n",
      "2025-10-18 21:23:23,651 - INFO - Extrayendo temporada 2019-20...\n",
      "2025-10-18 21:23:24,570 - WARNING - [ES] No se encontró tabla de clasificación válida en https://es.wikipedia.org/wiki/Premier_League_2019-20\n",
      "2025-10-18 21:23:24,572 - INFO -   Reintentando con Wikipedia EN...\n",
      "2025-10-18 21:23:25,344 - INFO - [EN] ✓ 2019-20: 20 equipos extraídos\n",
      "2025-10-18 21:23:26,151 - INFO - Extrayendo temporada 2020-21...\n",
      "2025-10-18 21:23:27,127 - WARNING - [ES] No se encontró tabla de clasificación válida en https://es.wikipedia.org/wiki/Premier_League_2020-21\n",
      "2025-10-18 21:23:27,128 - INFO -   Reintentando con Wikipedia EN...\n",
      "2025-10-18 21:23:27,866 - INFO - [EN] ✓ 2020-21: 20 equipos extraídos\n",
      "2025-10-18 21:23:28,669 - INFO - Extrayendo temporada 2021-22...\n",
      "2025-10-18 21:23:29,623 - WARNING - [ES] No se encontró tabla de clasificación válida en https://es.wikipedia.org/wiki/Premier_League_2021-22\n",
      "2025-10-18 21:23:29,625 - INFO -   Reintentando con Wikipedia EN...\n",
      "2025-10-18 21:23:30,341 - INFO - [EN] ✓ 2021-22: 20 equipos extraídos\n",
      "2025-10-18 21:23:31,148 - INFO - Extrayendo temporada 2022-23...\n",
      "2025-10-18 21:23:32,199 - WARNING - [ES] No se encontró tabla de clasificación válida en https://es.wikipedia.org/wiki/Premier_League_2022-23\n",
      "2025-10-18 21:23:32,200 - INFO -   Reintentando con Wikipedia EN...\n",
      "2025-10-18 21:23:32,916 - INFO - [EN] ✓ 2022-23: 20 equipos extraídos\n",
      "2025-10-18 21:23:33,722 - INFO - Extrayendo temporada 2023-24...\n",
      "2025-10-18 21:23:34,709 - WARNING - [ES] No se encontró tabla de clasificación válida en https://es.wikipedia.org/wiki/Premier_League_2023-24\n",
      "2025-10-18 21:23:34,710 - INFO -   Reintentando con Wikipedia EN...\n",
      "2025-10-18 21:23:35,444 - INFO - [EN] ✓ 2023-24: 20 equipos extraídos\n",
      "2025-10-18 21:23:36,250 - INFO - Extrayendo temporada 2024-25...\n",
      "2025-10-18 21:23:37,297 - WARNING - [ES] No se encontró tabla de clasificación válida en https://es.wikipedia.org/wiki/Premier_League_2024-25\n",
      "2025-10-18 21:23:37,299 - INFO -   Reintentando con Wikipedia EN...\n",
      "2025-10-18 21:23:38,009 - INFO - [EN] ✓ 2024-25: 20 equipos extraídos\n",
      "2025-10-18 21:23:38,829 - INFO - \n",
      "======================================================================\n",
      "2025-10-18 21:23:38,831 - INFO - RESUMEN DE EXTRACCIÓN\n",
      "2025-10-18 21:23:38,832 - INFO - ======================================================================\n",
      "2025-10-18 21:23:38,833 - INFO - ✓ Temporadas exitosas: 33\n",
      "2025-10-18 21:23:38,833 - INFO - ✗ Temporadas fallidas: 0\n",
      "2025-10-18 21:23:38,851 - INFO - \n",
      "✓ Datos guardados: premier_league_completo_limpio.csv\n",
      "2025-10-18 21:23:38,851 - INFO -   Total registros: 666\n",
      "2025-10-18 21:23:38,853 - INFO -   Temporadas: 33\n",
      "2025-10-18 21:23:38,854 - INFO - \n",
      "Creando base de datos de tracking de equipos...\n",
      "2025-10-18 21:23:39,485 - INFO - ✓ Base de tracking creada: 53 equipos únicos\n",
      "2025-10-18 21:23:39,487 - INFO - \n",
      "✓ Base de tracking guardada: premier_league_tracking_equipos.csv\n",
      "2025-10-18 21:23:39,488 - INFO - \n",
      "======================================================================\n",
      "2025-10-18 21:23:39,488 - INFO - ESTADÍSTICAS FINALES\n",
      "2025-10-18 21:23:39,488 - INFO - ======================================================================\n",
      "2025-10-18 21:23:39,489 - INFO - Equipos únicos: 53\n",
      "2025-10-18 21:23:39,489 - INFO - Temporadas cubiertas: 33\n",
      "2025-10-18 21:23:39,492 - INFO - \n",
      "======================================================================\n",
      "2025-10-18 21:23:39,492 - INFO - ✅ PROCESO COMPLETADO\n",
      "2025-10-18 21:23:39,492 - INFO - ======================================================================\n"
     ]
    },
    {
     "name": "stdout",
     "output_type": "stream",
     "text": [
      "\n",
      "Top 10 equipos por temporadas jugadas:\n",
      "           Equipo  Total_Temporadas  Mejor_Posicion  Peor_Posicion\n",
      "Manchester United                33             1.0           15.0\n",
      "        Liverpool                33             1.0            8.0\n",
      "          Everton                33             4.0           17.0\n",
      "          Chelsea                33             1.0           14.0\n",
      "Tottenham Hotspur                33             2.0           17.0\n",
      "          Arsenal                33             1.0           12.0\n",
      "      Aston Villa                30             2.0           20.0\n",
      " Newcastle United                30             2.0           18.0\n",
      "  West Ham United                29             5.0           20.0\n",
      "  Manchester City                28             1.0           18.0\n"
     ]
    }
   ],
   "source": [
    "# Ejecutar el scraper\n",
    "%run scraper_robusto.py"
   ]
  },
  {
   "cell_type": "markdown",
   "metadata": {},
   "source": [
    "## 3. Cargar y verificar datos"
   ]
  },
  {
   "cell_type": "code",
   "execution_count": 3,
   "metadata": {},
   "outputs": [
    {
     "name": "stdout",
     "output_type": "stream",
     "text": [
      "📊 Dataset cargado\n",
      "   Registros: 666\n",
      "   Columnas: 11\n",
      "   Temporadas: 33\n",
      "   Equipos únicos: 53\n"
     ]
    },
    {
     "data": {
      "text/html": [
       "<div>\n",
       "<style scoped>\n",
       "    .dataframe tbody tr th:only-of-type {\n",
       "        vertical-align: middle;\n",
       "    }\n",
       "\n",
       "    .dataframe tbody tr th {\n",
       "        vertical-align: top;\n",
       "    }\n",
       "\n",
       "    .dataframe thead th {\n",
       "        text-align: right;\n",
       "    }\n",
       "</style>\n",
       "<table border=\"1\" class=\"dataframe\">\n",
       "  <thead>\n",
       "    <tr style=\"text-align: right;\">\n",
       "      <th></th>\n",
       "      <th>Temporada</th>\n",
       "      <th>Pos</th>\n",
       "      <th>Equipo</th>\n",
       "      <th>PJ</th>\n",
       "      <th>G</th>\n",
       "      <th>E</th>\n",
       "      <th>P</th>\n",
       "      <th>Pts</th>\n",
       "      <th>GF</th>\n",
       "      <th>GC</th>\n",
       "      <th>Dif</th>\n",
       "    </tr>\n",
       "  </thead>\n",
       "  <tbody>\n",
       "    <tr>\n",
       "      <th>0</th>\n",
       "      <td>1992-93</td>\n",
       "      <td>1</td>\n",
       "      <td>Manchester United</td>\n",
       "      <td>42</td>\n",
       "      <td>24</td>\n",
       "      <td>12</td>\n",
       "      <td>6</td>\n",
       "      <td>84.0</td>\n",
       "      <td>67</td>\n",
       "      <td>31.0</td>\n",
       "      <td>+36</td>\n",
       "    </tr>\n",
       "    <tr>\n",
       "      <th>1</th>\n",
       "      <td>1992-93</td>\n",
       "      <td>2</td>\n",
       "      <td>Aston Villa</td>\n",
       "      <td>42</td>\n",
       "      <td>21</td>\n",
       "      <td>11</td>\n",
       "      <td>10</td>\n",
       "      <td>74.0</td>\n",
       "      <td>57</td>\n",
       "      <td>40.0</td>\n",
       "      <td>+17</td>\n",
       "    </tr>\n",
       "    <tr>\n",
       "      <th>2</th>\n",
       "      <td>1992-93</td>\n",
       "      <td>3</td>\n",
       "      <td>Norwich City</td>\n",
       "      <td>42</td>\n",
       "      <td>21</td>\n",
       "      <td>9</td>\n",
       "      <td>12</td>\n",
       "      <td>72.0</td>\n",
       "      <td>61</td>\n",
       "      <td>65.0</td>\n",
       "      <td>−4</td>\n",
       "    </tr>\n",
       "    <tr>\n",
       "      <th>3</th>\n",
       "      <td>1992-93</td>\n",
       "      <td>4</td>\n",
       "      <td>Blackburn Rovers</td>\n",
       "      <td>42</td>\n",
       "      <td>20</td>\n",
       "      <td>11</td>\n",
       "      <td>11</td>\n",
       "      <td>71.0</td>\n",
       "      <td>68</td>\n",
       "      <td>46.0</td>\n",
       "      <td>+22</td>\n",
       "    </tr>\n",
       "    <tr>\n",
       "      <th>4</th>\n",
       "      <td>1992-93</td>\n",
       "      <td>5</td>\n",
       "      <td>Queens Park Rangers</td>\n",
       "      <td>42</td>\n",
       "      <td>17</td>\n",
       "      <td>12</td>\n",
       "      <td>13</td>\n",
       "      <td>63.0</td>\n",
       "      <td>63</td>\n",
       "      <td>55.0</td>\n",
       "      <td>+8</td>\n",
       "    </tr>\n",
       "    <tr>\n",
       "      <th>5</th>\n",
       "      <td>1992-93</td>\n",
       "      <td>6</td>\n",
       "      <td>Liverpool</td>\n",
       "      <td>42</td>\n",
       "      <td>16</td>\n",
       "      <td>11</td>\n",
       "      <td>15</td>\n",
       "      <td>59.0</td>\n",
       "      <td>62</td>\n",
       "      <td>55.0</td>\n",
       "      <td>+7</td>\n",
       "    </tr>\n",
       "    <tr>\n",
       "      <th>6</th>\n",
       "      <td>1992-93</td>\n",
       "      <td>7</td>\n",
       "      <td>Sheffield Wednesday</td>\n",
       "      <td>42</td>\n",
       "      <td>15</td>\n",
       "      <td>14</td>\n",
       "      <td>13</td>\n",
       "      <td>59.0</td>\n",
       "      <td>55</td>\n",
       "      <td>51.0</td>\n",
       "      <td>+4</td>\n",
       "    </tr>\n",
       "    <tr>\n",
       "      <th>7</th>\n",
       "      <td>1992-93</td>\n",
       "      <td>8</td>\n",
       "      <td>Tottenham Hotspur</td>\n",
       "      <td>42</td>\n",
       "      <td>16</td>\n",
       "      <td>11</td>\n",
       "      <td>15</td>\n",
       "      <td>59.0</td>\n",
       "      <td>60</td>\n",
       "      <td>66.0</td>\n",
       "      <td>−6</td>\n",
       "    </tr>\n",
       "    <tr>\n",
       "      <th>8</th>\n",
       "      <td>1992-93</td>\n",
       "      <td>9</td>\n",
       "      <td>Manchester City</td>\n",
       "      <td>42</td>\n",
       "      <td>15</td>\n",
       "      <td>12</td>\n",
       "      <td>15</td>\n",
       "      <td>57.0</td>\n",
       "      <td>56</td>\n",
       "      <td>51.0</td>\n",
       "      <td>+5</td>\n",
       "    </tr>\n",
       "    <tr>\n",
       "      <th>9</th>\n",
       "      <td>1992-93</td>\n",
       "      <td>10</td>\n",
       "      <td>Arsenal</td>\n",
       "      <td>42</td>\n",
       "      <td>15</td>\n",
       "      <td>11</td>\n",
       "      <td>16</td>\n",
       "      <td>56.0</td>\n",
       "      <td>40</td>\n",
       "      <td>38.0</td>\n",
       "      <td>+2</td>\n",
       "    </tr>\n",
       "  </tbody>\n",
       "</table>\n",
       "</div>"
      ],
      "text/plain": [
       "  Temporada  Pos               Equipo  PJ   G   E   P   Pts  GF    GC  Dif\n",
       "0   1992-93    1    Manchester United  42  24  12   6  84.0  67  31.0  +36\n",
       "1   1992-93    2          Aston Villa  42  21  11  10  74.0  57  40.0  +17\n",
       "2   1992-93    3         Norwich City  42  21   9  12  72.0  61  65.0   −4\n",
       "3   1992-93    4     Blackburn Rovers  42  20  11  11  71.0  68  46.0  +22\n",
       "4   1992-93    5  Queens Park Rangers  42  17  12  13  63.0  63  55.0   +8\n",
       "5   1992-93    6            Liverpool  42  16  11  15  59.0  62  55.0   +7\n",
       "6   1992-93    7  Sheffield Wednesday  42  15  14  13  59.0  55  51.0   +4\n",
       "7   1992-93    8    Tottenham Hotspur  42  16  11  15  59.0  60  66.0   −6\n",
       "8   1992-93    9      Manchester City  42  15  12  15  57.0  56  51.0   +5\n",
       "9   1992-93   10              Arsenal  42  15  11  16  56.0  40  38.0   +2"
      ]
     },
     "execution_count": 3,
     "metadata": {},
     "output_type": "execute_result"
    }
   ],
   "source": [
    "# Cargar datos completos\n",
    "df = pd.read_csv('premier_league_completo_limpio.csv')\n",
    "\n",
    "print(f\"📊 Dataset cargado\")\n",
    "print(f\"   Registros: {len(df):,}\")\n",
    "print(f\"   Columnas: {len(df.columns)}\")\n",
    "print(f\"   Temporadas: {df['Temporada'].nunique()}\")\n",
    "print(f\"   Equipos únicos: {df['Equipo'].nunique()}\")\n",
    "\n",
    "# Mostrar primeras filas\n",
    "df.head(10)"
   ]
  },
  {
   "cell_type": "code",
   "execution_count": null,
   "metadata": {},
   "outputs": [],
   "source": [
    "# Información del dataset\n",
    "df.info()"
   ]
  },
  {
   "cell_type": "markdown",
   "metadata": {},
   "source": [
    "## 4. Verificar calidad de datos"
   ]
  },
  {
   "cell_type": "code",
   "execution_count": 4,
   "metadata": {},
   "outputs": [
    {
     "name": "stdout",
     "output_type": "stream",
     "text": [
      "Valores nulos por columna:\n",
      "Temporada      0\n",
      "Pos            0\n",
      "Equipo         0\n",
      "PJ             0\n",
      "G              0\n",
      "E              0\n",
      "P              0\n",
      "Pts            2\n",
      "GF             0\n",
      "GC           238\n",
      "Dif            0\n",
      "dtype: int64\n",
      "\n",
      "Total de valores nulos: 240\n"
     ]
    }
   ],
   "source": [
    "# Verificar valores nulos\n",
    "print(\"Valores nulos por columna:\")\n",
    "print(df.isnull().sum())\n",
    "print(f\"\\nTotal de valores nulos: {df.isnull().sum().sum()}\")"
   ]
  },
  {
   "cell_type": "code",
   "execution_count": 5,
   "metadata": {},
   "outputs": [
    {
     "name": "stdout",
     "output_type": "stream",
     "text": [
      "Temporadas en la base de datos:\n",
      "Temporada\n",
      "1992-93    22\n",
      "1993-94    22\n",
      "1994-95    22\n",
      "1995-96    20\n",
      "1996-97    20\n",
      "1997-98    20\n",
      "1998-99    20\n",
      "1999-00    20\n",
      "2000-01    20\n",
      "2001-02    20\n",
      "2002-03    20\n",
      "2003-04    20\n",
      "2004-05    20\n",
      "2005-06    20\n",
      "2006-07    20\n",
      "2007-08    20\n",
      "2008-09    20\n",
      "2009-10    20\n",
      "2010-11    20\n",
      "2011-12    20\n",
      "2012-13    20\n",
      "2013-14    20\n",
      "2014-15    20\n",
      "2015-16    20\n",
      "2016-17    20\n",
      "2017-18    20\n",
      "2018-19    20\n",
      "2019-20    20\n",
      "2020-21    20\n",
      "2021-22    20\n",
      "2022-23    20\n",
      "2023-24    20\n",
      "2024-25    20\n",
      "Name: count, dtype: int64\n",
      "\n",
      "✓ Todas las temporadas presentes\n"
     ]
    }
   ],
   "source": [
    "# Verificar temporadas\n",
    "print(\"Temporadas en la base de datos:\")\n",
    "temporadas = df['Temporada'].value_counts().sort_index()\n",
    "print(temporadas)\n",
    "\n",
    "# Verificar si hay temporadas faltantes\n",
    "all_seasons = [f\"{y}-{str(y+1)[-2:]}\" for y in range(1992, 2025)]\n",
    "existing_seasons = df['Temporada'].unique().tolist()\n",
    "missing_seasons = [s for s in all_seasons if s not in existing_seasons]\n",
    "\n",
    "if missing_seasons:\n",
    "    print(f\"\\n⚠️  Temporadas faltantes: {', '.join(missing_seasons)}\")\n",
    "else:\n",
    "    print(\"\\n✓ Todas las temporadas presentes\")"
   ]
  },
  {
   "cell_type": "code",
   "execution_count": null,
   "metadata": {},
   "outputs": [],
   "source": [
    "# Verificar equipos por temporada\n",
    "equipos_por_temporada = df.groupby('Temporada').size().sort_index()\n",
    "\n",
    "print(\"Equipos por temporada:\")\n",
    "print(equipos_por_temporada)\n",
    "\n",
    "# Verificar anomalías\n",
    "anomalias = equipos_por_temporada[(equipos_por_temporada < 20) | (equipos_por_temporada > 22)]\n",
    "if len(anomalias) > 0:\n",
    "    print(\"\\n⚠️  Temporadas con número inusual de equipos:\")\n",
    "    print(anomalias)\n",
    "else:\n",
    "    print(\"\\n✓ Todas las temporadas tienen 20-22 equipos\")"
   ]
  },
  {
   "cell_type": "markdown",
   "metadata": {},
   "source": [
    "## 5. Cargar base de datos de tracking"
   ]
  },
  {
   "cell_type": "code",
   "execution_count": null,
   "metadata": {},
   "outputs": [],
   "source": [
    "# Cargar tracking de equipos\n",
    "tracking_df = pd.read_csv('premier_league_tracking_equipos.csv')\n",
    "\n",
    "print(f\"📊 Tracking de equipos cargado\")\n",
    "print(f\"   Equipos únicos: {len(tracking_df)}\")\n",
    "\n",
    "# Mostrar top 15 equipos\n",
    "print(\"\\nTop 15 equipos por temporadas jugadas:\")\n",
    "tracking_df[['Equipo', 'Total_Temporadas', 'Mejor_Posicion', 'Peor_Posicion']].head(15)"
   ]
  },
  {
   "cell_type": "markdown",
   "metadata": {},
   "source": [
    "## 6. Análisis Exploratorio"
   ]
  },
  {
   "cell_type": "code",
   "execution_count": null,
   "metadata": {},
   "outputs": [],
   "source": [
    "# Equipos que han estado en TODAS las temporadas\n",
    "total_temporadas = df['Temporada'].nunique()\n",
    "siempre_premier = tracking_df[tracking_df['Total_Temporadas'] == total_temporadas]\n",
    "\n",
    "print(f\"Equipos que han estado en TODAS las {total_temporadas} temporadas:\")\n",
    "print(siempre_premier[['Equipo', 'Mejor_Posicion', 'Peor_Posicion']].to_string(index=False))"
   ]
  },
  {
   "cell_type": "code",
   "execution_count": null,
   "metadata": {},
   "outputs": [],
   "source": [
    "# Campeones por temporada\n",
    "campeones = df[df['Pos'] == 1][['Temporada', 'Equipo', 'Pts', 'GF', 'GC']].sort_values('Temporada')\n",
    "\n",
    "print(\"Campeones de Premier League por temporada:\")\n",
    "print(campeones.to_string(index=False))"
   ]
  },
  {
   "cell_type": "code",
   "execution_count": null,
   "metadata": {},
   "outputs": [],
   "source": [
    "# Número de títulos por equipo\n",
    "titulos = campeones['Equipo'].value_counts().sort_values(ascending=False)\n",
    "\n",
    "print(\"Títulos de Premier League por equipo:\")\n",
    "for equipo, count in titulos.items():\n",
    "    print(f\"  {equipo}: {count} {'título' if count == 1 else 'títulos'}\")"
   ]
  },
  {
   "cell_type": "markdown",
   "metadata": {},
   "source": [
    "## 7. Visualizaciones"
   ]
  },
  {
   "cell_type": "code",
   "execution_count": null,
   "metadata": {},
   "outputs": [],
   "source": [
    "# Gráfico: Títulos por equipo\n",
    "plt.figure(figsize=(12, 6))\n",
    "titulos.plot(kind='bar', color='steelblue')\n",
    "plt.title('Títulos de Premier League por Equipo (1992-2024)', fontsize=14, fontweight='bold')\n",
    "plt.xlabel('Equipo', fontsize=12)\n",
    "plt.ylabel('Número de Títulos', fontsize=12)\n",
    "plt.xticks(rotation=45, ha='right')\n",
    "plt.tight_layout()\n",
    "plt.grid(axis='y', alpha=0.3)\n",
    "plt.show()"
   ]
  },
  {
   "cell_type": "code",
   "execution_count": null,
   "metadata": {},
   "outputs": [],
   "source": [
    "# Gráfico: Puntos del campeón por temporada\n",
    "plt.figure(figsize=(14, 6))\n",
    "plt.plot(campeones['Temporada'], campeones['Pts'], marker='o', linewidth=2, markersize=6)\n",
    "plt.title('Puntos del Campeón por Temporada', fontsize=14, fontweight='bold')\n",
    "plt.xlabel('Temporada', fontsize=12)\n",
    "plt.ylabel('Puntos', fontsize=12)\n",
    "plt.xticks(rotation=45, ha='right')\n",
    "plt.grid(alpha=0.3)\n",
    "plt.tight_layout()\n",
    "plt.show()"
   ]
  },
  {
   "cell_type": "markdown",
   "metadata": {},
   "source": [
    "## 8. Funciones de consulta"
   ]
  },
  {
   "cell_type": "code",
   "execution_count": null,
   "metadata": {},
   "outputs": [],
   "source": [
    "def ver_historial_equipo(equipo_nombre):\n",
    "    \"\"\"Muestra el historial completo de un equipo\"\"\"\n",
    "    \n",
    "    # Buscar equipos que coincidan\n",
    "    equipos_disponibles = df['Equipo'].unique()\n",
    "    coincidencias = [e for e in equipos_disponibles if equipo_nombre.lower() in e.lower()]\n",
    "    \n",
    "    if not coincidencias:\n",
    "        print(f\"No se encontró ningún equipo con '{equipo_nombre}'\")\n",
    "        return\n",
    "    \n",
    "    if len(coincidencias) > 1:\n",
    "        print(f\"Se encontraron {len(coincidencias)} equipos:\")\n",
    "        for e in coincidencias:\n",
    "            print(f\"  - {e}\")\n",
    "        print(\"\\nPor favor, especifica mejor el nombre del equipo\")\n",
    "        return\n",
    "    \n",
    "    equipo = coincidencias[0]\n",
    "    historial = df[df['Equipo'] == equipo].sort_values('Temporada')\n",
    "    \n",
    "    print(f\"\\n{'='*70}\")\n",
    "    print(f\"HISTORIAL: {equipo}\")\n",
    "    print(f\"{'='*70}\")\n",
    "    print(f\"Temporadas jugadas: {len(historial)}\")\n",
    "    print(f\"Mejor posición: {historial['Pos'].min()}° (Temporada {historial[historial['Pos'] == historial['Pos'].min()]['Temporada'].values[0]})\")\n",
    "    print(f\"Peor posición: {historial['Pos'].max()}° (Temporada {historial[historial['Pos'] == historial['Pos'].max()]['Temporada'].values[0]})\")\n",
    "    print(f\"Promedio de posición: {historial['Pos'].mean():.1f}°\")\n",
    "    print(f\"\\nHistorial completo:\")\n",
    "    print(historial[['Temporada', 'Pos', 'PJ', 'G', 'E', 'P', 'Pts', 'GF', 'GC']].to_string(index=False))\n",
    "    \n",
    "    return historial\n",
    "\n",
    "# Ejemplo de uso\n",
    "# ver_historial_equipo('Arsenal')"
   ]
  },
  {
   "cell_type": "code",
   "execution_count": null,
   "metadata": {},
   "outputs": [],
   "source": [
    "def ver_temporada(temporada):\n",
    "    \"\"\"Muestra la clasificación completa de una temporada\"\"\"\n",
    "    \n",
    "    temp_data = df[df['Temporada'] == temporada].sort_values('Pos')\n",
    "    \n",
    "    if len(temp_data) == 0:\n",
    "        print(f\"No se encontraron datos para la temporada {temporada}\")\n",
    "        return\n",
    "    \n",
    "    print(f\"\\n{'='*70}\")\n",
    "    print(f\"PREMIER LEAGUE - TEMPORADA {temporada}\")\n",
    "    print(f\"{'='*70}\")\n",
    "    print(temp_data[['Pos', 'Equipo', 'PJ', 'G', 'E', 'P', 'Pts', 'GF', 'GC', 'Dif']].to_string(index=False))\n",
    "    \n",
    "    return temp_data\n",
    "\n",
    "# Ejemplo de uso\n",
    "# ver_temporada('2015-16')  # Temporada del Leicester"
   ]
  },
  {
   "cell_type": "code",
   "execution_count": null,
   "metadata": {},
   "outputs": [],
   "source": [
    "def comparar_equipos(*equipos):\n",
    "    \"\"\"Compara el historial de múltiples equipos\"\"\"\n",
    "    \n",
    "    comparacion = []\n",
    "    \n",
    "    for equipo_nombre in equipos:\n",
    "        coincidencias = [e for e in df['Equipo'].unique() if equipo_nombre.lower() in e.lower()]\n",
    "        \n",
    "        if len(coincidencias) == 1:\n",
    "            equipo = coincidencias[0]\n",
    "            historial = df[df['Equipo'] == equipo]\n",
    "            \n",
    "            comparacion.append({\n",
    "                'Equipo': equipo,\n",
    "                'Temporadas': len(historial),\n",
    "                'Títulos': len(historial[historial['Pos'] == 1]),\n",
    "                'Top 4': len(historial[historial['Pos'] <= 4]),\n",
    "                'Mejor Pos': historial['Pos'].min(),\n",
    "                'Peor Pos': historial['Pos'].max(),\n",
    "                'Promedio Pos': historial['Pos'].mean(),\n",
    "                'Total Pts': historial['Pts'].sum(),\n",
    "                'Promedio Pts': historial['Pts'].mean()\n",
    "            })\n",
    "    \n",
    "    comp_df = pd.DataFrame(comparacion)\n",
    "    print(\"\\nComparación de equipos:\")\n",
    "    print(comp_df.to_string(index=False))\n",
    "    \n",
    "    return comp_df\n",
    "\n",
    "# Ejemplo de uso\n",
    "# comparar_equipos('Manchester United', 'Arsenal', 'Chelsea', 'Liverpool')"
   ]
  },
  {
   "cell_type": "markdown",
   "metadata": {},
   "source": [
    "## 9. Análisis específicos"
   ]
  },
  {
   "cell_type": "code",
   "execution_count": null,
   "metadata": {},
   "outputs": [],
   "source": [
    "# Top 10 mejores temporadas por puntos\n",
    "print(\"Top 10 mejores temporadas por puntos:\")\n",
    "mejores_temporadas = df.nlargest(10, 'Pts')[['Temporada', 'Equipo', 'Pos', 'Pts', 'GF', 'GC']]\n",
    "print(mejores_temporadas.to_string(index=False))"
   ]
  },
  {
   "cell_type": "code",
   "execution_count": null,
   "metadata": {},
   "outputs": [],
   "source": [
    "# Equipos descendidos por temporada (posiciones 18-22)\n",
    "descendidos = df[df['Pos'] >= 18].sort_values(['Temporada', 'Pos'])\n",
    "print(f\"\\nTotal de equipos descendidos: {len(descendidos)}\")\n",
    "print(\"\\nDescensos por temporada:\")\n",
    "print(descendidos[['Temporada', 'Pos', 'Equipo', 'Pts']].to_string(index=False))"
   ]
  },
  {
   "cell_type": "code",
   "execution_count": null,
   "metadata": {},
   "outputs": [],
   "source": [
    "# Análisis de goles\n",
    "print(\"Top 10 equipos con más goles en una temporada:\")\n",
    "mas_goles = df.nlargest(10, 'GF')[['Temporada', 'Equipo', 'GF', 'Pos']]\n",
    "print(mas_goles.to_string(index=False))"
   ]
  },
  {
   "cell_type": "markdown",
   "metadata": {},
   "source": [
    "## 10. Exportar resúmenes"
   ]
  },
  {
   "cell_type": "code",
   "execution_count": null,
   "metadata": {},
   "outputs": [],
   "source": [
    "# Crear resumen ejecutivo\n",
    "resumen = {\n",
    "    'Total_Temporadas': df['Temporada'].nunique(),\n",
    "    'Total_Equipos_Unicos': df['Equipo'].nunique(),\n",
    "    'Total_Partidos': df['PJ'].sum(),\n",
    "    'Total_Goles': df['GF'].sum(),\n",
    "    'Equipos_Siempre_Premier': len(siempre_premier),\n",
    "    'Campeones_Diferentes': campeones['Equipo'].nunique()\n",
    "}\n",
    "\n",
    "print(\"\\nRESUMEN EJECUTIVO - PREMIER LEAGUE\")\n",
    "print(\"=\"*50)\n",
    "for key, value in resumen.items():\n",
    "    print(f\"{key.replace('_', ' ')}: {value:,}\")\n",
    "\n",
    "# Guardar resumen\n",
    "pd.DataFrame([resumen]).to_csv('resumen_premier_league.csv', index=False)\n",
    "print(\"\\n✓ Resumen guardado en 'resumen_premier_league.csv'\")"
   ]
  },
  {
   "cell_type": "markdown",
   "metadata": {},
   "source": [
    "## 11. Consultas personalizadas"
   ]
  },
  {
   "cell_type": "code",
   "execution_count": null,
   "metadata": {},
   "outputs": [],
   "source": [
    "# Aquí puedes hacer tus propias consultas\n",
    "# Ejemplo: Ver historial del Manchester United\n",
    "# ver_historial_equipo('Manchester United')"
   ]
  },
  {
   "cell_type": "code",
   "execution_count": null,
   "metadata": {},
   "outputs": [],
   "source": [
    "# Ejemplo: Ver la temporada 2015-16 (Leicester campeón)\n",
    "# ver_temporada('2015-16')"
   ]
  },
  {
   "cell_type": "code",
   "execution_count": null,
   "metadata": {},
   "outputs": [],
   "source": [
    "# Ejemplo: Comparar los 'Big 6'\n",
    "# comparar_equipos('Manchester United', 'Manchester City', 'Liverpool', 'Arsenal', 'Chelsea', 'Tottenham')"
   ]
  }
 ],
 "metadata": {
  "kernelspec": {
   "display_name": "Python 3 (ipykernel)",
   "language": "python",
   "name": "python3"
  },
  "language_info": {
   "codemirror_mode": {
    "name": "ipython",
    "version": 3
   },
   "file_extension": ".py",
   "mimetype": "text/x-python",
   "name": "python",
   "nbconvert_exporter": "python",
   "pygments_lexer": "ipython3",
   "version": "3.10.16"
  }
 },
 "nbformat": 4,
 "nbformat_minor": 4
}
