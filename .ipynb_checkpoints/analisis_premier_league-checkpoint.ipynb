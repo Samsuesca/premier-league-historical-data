{
 "cells": [
  {
   "cell_type": "markdown",
   "metadata": {},
   "source": [
    "# Premier League - Análisis Histórico (1992-2025)\n",
    "\n",
    "Este notebook contiene el análisis completo de datos históricos de la Premier League desde su creación."
   ]
  },
  {
   "cell_type": "markdown",
   "metadata": {},
   "source": [
    "## 1. Importar librerías y configuración"
   ]
  },
  {
   "cell_type": "code",
   "execution_count": null,
   "metadata": {},
   "outputs": [],
   "source": [
    "import pandas as pd\n",
    "import numpy as np\n",
    "import matplotlib.pyplot as plt\n",
    "import seaborn as sns\n",
    "from pathlib import Path\n",
    "\n",
    "# Configuración de visualización\n",
    "plt.style.use('seaborn-v0_8-darkgrid')\n",
    "sns.set_palette('husl')\n",
    "pd.set_option('display.max_columns', None)\n",
    "pd.set_option('display.max_rows', 100)\n",
    "\n",
    "print(\"✓ Librerías importadas\")"
   ]
  },
  {
   "cell_type": "markdown",
   "metadata": {},
   "source": [
    "## 2. Ejecutar el scraper robusto"
   ]
  },
  {
   "cell_type": "code",
   "execution_count": null,
   "metadata": {},
   "outputs": [],
   "source": [
    "# Ejecutar el scraper\n",
    "%run scraper_robusto.py"
   ]
  },
  {
   "cell_type": "markdown",
   "metadata": {},
   "source": [
    "## 3. Cargar y verificar datos"
   ]
  },
  {
   "cell_type": "code",
   "execution_count": null,
   "metadata": {},
   "outputs": [],
   "source": [
    "# Cargar datos completos\n",
    "df = pd.read_csv('premier_league_completo_limpio.csv')\n",
    "\n",
    "print(f\"📊 Dataset cargado\")\n",
    "print(f\"   Registros: {len(df):,}\")\n",
    "print(f\"   Columnas: {len(df.columns)}\")\n",
    "print(f\"   Temporadas: {df['Temporada'].nunique()}\")\n",
    "print(f\"   Equipos únicos: {df['Equipo'].nunique()}\")\n",
    "\n",
    "# Mostrar primeras filas\n",
    "df.head(10)"
   ]
  },
  {
   "cell_type": "code",
   "execution_count": null,
   "metadata": {},
   "outputs": [],
   "source": [
    "# Información del dataset\n",
    "df.info()"
   ]
  },
  {
   "cell_type": "markdown",
   "metadata": {},
   "source": [
    "## 4. Verificar calidad de datos"
   ]
  },
  {
   "cell_type": "code",
   "execution_count": null,
   "metadata": {},
   "outputs": [],
   "source": [
    "# Verificar valores nulos\n",
    "print(\"Valores nulos por columna:\")\n",
    "print(df.isnull().sum())\n",
    "print(f\"\\nTotal de valores nulos: {df.isnull().sum().sum()}\")"
   ]
  },
  {
   "cell_type": "code",
   "execution_count": null,
   "metadata": {},
   "outputs": [],
   "source": [
    "# Verificar temporadas\n",
    "print(\"Temporadas en la base de datos:\")\n",
    "temporadas = df['Temporada'].value_counts().sort_index()\n",
    "print(temporadas)\n",
    "\n",
    "# Verificar si hay temporadas faltantes\n",
    "all_seasons = [f\"{y}-{str(y+1)[-2:]}\" for y in range(1992, 2025)]\n",
    "existing_seasons = df['Temporada'].unique().tolist()\n",
    "missing_seasons = [s for s in all_seasons if s not in existing_seasons]\n",
    "\n",
    "if missing_seasons:\n",
    "    print(f\"\\n⚠️  Temporadas faltantes: {', '.join(missing_seasons)}\")\n",
    "else:\n",
    "    print(\"\\n✓ Todas las temporadas presentes\")"
   ]
  },
  {
   "cell_type": "code",
   "execution_count": null,
   "metadata": {},
   "outputs": [],
   "source": [
    "# Verificar equipos por temporada\n",
    "equipos_por_temporada = df.groupby('Temporada').size().sort_index()\n",
    "\n",
    "print(\"Equipos por temporada:\")\n",
    "print(equipos_por_temporada)\n",
    "\n",
    "# Verificar anomalías\n",
    "anomalias = equipos_por_temporada[(equipos_por_temporada < 20) | (equipos_por_temporada > 22)]\n",
    "if len(anomalias) > 0:\n",
    "    print(\"\\n⚠️  Temporadas con número inusual de equipos:\")\n",
    "    print(anomalias)\n",
    "else:\n",
    "    print(\"\\n✓ Todas las temporadas tienen 20-22 equipos\")"
   ]
  },
  {
   "cell_type": "markdown",
   "metadata": {},
   "source": [
    "## 5. Cargar base de datos de tracking"
   ]
  },
  {
   "cell_type": "code",
   "execution_count": null,
   "metadata": {},
   "outputs": [],
   "source": [
    "# Cargar tracking de equipos\n",
    "tracking_df = pd.read_csv('premier_league_tracking_equipos.csv')\n",
    "\n",
    "print(f\"📊 Tracking de equipos cargado\")\n",
    "print(f\"   Equipos únicos: {len(tracking_df)}\")\n",
    "\n",
    "# Mostrar top 15 equipos\n",
    "print(\"\\nTop 15 equipos por temporadas jugadas:\")\n",
    "tracking_df[['Equipo', 'Total_Temporadas', 'Mejor_Posicion', 'Peor_Posicion']].head(15)"
   ]
  },
  {
   "cell_type": "markdown",
   "metadata": {},
   "source": [
    "## 6. Análisis Exploratorio"
   ]
  },
  {
   "cell_type": "code",
   "execution_count": null,
   "metadata": {},
   "outputs": [],
   "source": [
    "# Equipos que han estado en TODAS las temporadas\n",
    "total_temporadas = df['Temporada'].nunique()\n",
    "siempre_premier = tracking_df[tracking_df['Total_Temporadas'] == total_temporadas]\n",
    "\n",
    "print(f\"Equipos que han estado en TODAS las {total_temporadas} temporadas:\")\n",
    "print(siempre_premier[['Equipo', 'Mejor_Posicion', 'Peor_Posicion']].to_string(index=False))"
   ]
  },
  {
   "cell_type": "code",
   "execution_count": null,
   "metadata": {},
   "outputs": [],
   "source": [
    "# Campeones por temporada\n",
    "campeones = df[df['Pos'] == 1][['Temporada', 'Equipo', 'Pts', 'GF', 'GC']].sort_values('Temporada')\n",
    "\n",
    "print(\"Campeones de Premier League por temporada:\")\n",
    "print(campeones.to_string(index=False))"
   ]
  },
  {
   "cell_type": "code",
   "execution_count": null,
   "metadata": {},
   "outputs": [],
   "source": [
    "# Número de títulos por equipo\n",
    "titulos = campeones['Equipo'].value_counts().sort_values(ascending=False)\n",
    "\n",
    "print(\"Títulos de Premier League por equipo:\")\n",
    "for equipo, count in titulos.items():\n",
    "    print(f\"  {equipo}: {count} {'título' if count == 1 else 'títulos'}\")"
   ]
  },
  {
   "cell_type": "markdown",
   "metadata": {},
   "source": [
    "## 7. Visualizaciones"
   ]
  },
  {
   "cell_type": "code",
   "execution_count": null,
   "metadata": {},
   "outputs": [],
   "source": [
    "# Gráfico: Títulos por equipo\n",
    "plt.figure(figsize=(12, 6))\n",
    "titulos.plot(kind='bar', color='steelblue')\n",
    "plt.title('Títulos de Premier League por Equipo (1992-2024)', fontsize=14, fontweight='bold')\n",
    "plt.xlabel('Equipo', fontsize=12)\n",
    "plt.ylabel('Número de Títulos', fontsize=12)\n",
    "plt.xticks(rotation=45, ha='right')\n",
    "plt.tight_layout()\n",
    "plt.grid(axis='y', alpha=0.3)\n",
    "plt.show()"
   ]
  },
  {
   "cell_type": "code",
   "execution_count": null,
   "metadata": {},
   "outputs": [],
   "source": [
    "# Gráfico: Puntos del campeón por temporada\n",
    "plt.figure(figsize=(14, 6))\n",
    "plt.plot(campeones['Temporada'], campeones['Pts'], marker='o', linewidth=2, markersize=6)\n",
    "plt.title('Puntos del Campeón por Temporada', fontsize=14, fontweight='bold')\n",
    "plt.xlabel('Temporada', fontsize=12)\n",
    "plt.ylabel('Puntos', fontsize=12)\n",
    "plt.xticks(rotation=45, ha='right')\n",
    "plt.grid(alpha=0.3)\n",
    "plt.tight_layout()\n",
    "plt.show()"
   ]
  },
  {
   "cell_type": "markdown",
   "metadata": {},
   "source": [
    "## 8. Funciones de consulta"
   ]
  },
  {
   "cell_type": "code",
   "execution_count": null,
   "metadata": {},
   "outputs": [],
   "source": [
    "def ver_historial_equipo(equipo_nombre):\n",
    "    \"\"\"Muestra el historial completo de un equipo\"\"\"\n",
    "    \n",
    "    # Buscar equipos que coincidan\n",
    "    equipos_disponibles = df['Equipo'].unique()\n",
    "    coincidencias = [e for e in equipos_disponibles if equipo_nombre.lower() in e.lower()]\n",
    "    \n",
    "    if not coincidencias:\n",
    "        print(f\"No se encontró ningún equipo con '{equipo_nombre}'\")\n",
    "        return\n",
    "    \n",
    "    if len(coincidencias) > 1:\n",
    "        print(f\"Se encontraron {len(coincidencias)} equipos:\")\n",
    "        for e in coincidencias:\n",
    "            print(f\"  - {e}\")\n",
    "        print(\"\\nPor favor, especifica mejor el nombre del equipo\")\n",
    "        return\n",
    "    \n",
    "    equipo = coincidencias[0]\n",
    "    historial = df[df['Equipo'] == equipo].sort_values('Temporada')\n",
    "    \n",
    "    print(f\"\\n{'='*70}\")\n",
    "    print(f\"HISTORIAL: {equipo}\")\n",
    "    print(f\"{'='*70}\")\n",
    "    print(f\"Temporadas jugadas: {len(historial)}\")\n",
    "    print(f\"Mejor posición: {historial['Pos'].min()}° (Temporada {historial[historial['Pos'] == historial['Pos'].min()]['Temporada'].values[0]})\")\n",
    "    print(f\"Peor posición: {historial['Pos'].max()}° (Temporada {historial[historial['Pos'] == historial['Pos'].max()]['Temporada'].values[0]})\")\n",
    "    print(f\"Promedio de posición: {historial['Pos'].mean():.1f}°\")\n",
    "    print(f\"\\nHistorial completo:\")\n",
    "    print(historial[['Temporada', 'Pos', 'PJ', 'G', 'E', 'P', 'Pts', 'GF', 'GC']].to_string(index=False))\n",
    "    \n",
    "    return historial\n",
    "\n",
    "# Ejemplo de uso\n",
    "# ver_historial_equipo('Arsenal')"
   ]
  },
  {
   "cell_type": "code",
   "execution_count": null,
   "metadata": {},
   "outputs": [],
   "source": [
    "def ver_temporada(temporada):\n",
    "    \"\"\"Muestra la clasificación completa de una temporada\"\"\"\n",
    "    \n",
    "    temp_data = df[df['Temporada'] == temporada].sort_values('Pos')\n",
    "    \n",
    "    if len(temp_data) == 0:\n",
    "        print(f\"No se encontraron datos para la temporada {temporada}\")\n",
    "        return\n",
    "    \n",
    "    print(f\"\\n{'='*70}\")\n",
    "    print(f\"PREMIER LEAGUE - TEMPORADA {temporada}\")\n",
    "    print(f\"{'='*70}\")\n",
    "    print(temp_data[['Pos', 'Equipo', 'PJ', 'G', 'E', 'P', 'Pts', 'GF', 'GC', 'Dif']].to_string(index=False))\n",
    "    \n",
    "    return temp_data\n",
    "\n",
    "# Ejemplo de uso\n",
    "# ver_temporada('2015-16')  # Temporada del Leicester"
   ]
  },
  {
   "cell_type": "code",
   "execution_count": null,
   "metadata": {},
   "outputs": [],
   "source": [
    "def comparar_equipos(*equipos):\n",
    "    \"\"\"Compara el historial de múltiples equipos\"\"\"\n",
    "    \n",
    "    comparacion = []\n",
    "    \n",
    "    for equipo_nombre in equipos:\n",
    "        coincidencias = [e for e in df['Equipo'].unique() if equipo_nombre.lower() in e.lower()]\n",
    "        \n",
    "        if len(coincidencias) == 1:\n",
    "            equipo = coincidencias[0]\n",
    "            historial = df[df['Equipo'] == equipo]\n",
    "            \n",
    "            comparacion.append({\n",
    "                'Equipo': equipo,\n",
    "                'Temporadas': len(historial),\n",
    "                'Títulos': len(historial[historial['Pos'] == 1]),\n",
    "                'Top 4': len(historial[historial['Pos'] <= 4]),\n",
    "                'Mejor Pos': historial['Pos'].min(),\n",
    "                'Peor Pos': historial['Pos'].max(),\n",
    "                'Promedio Pos': historial['Pos'].mean(),\n",
    "                'Total Pts': historial['Pts'].sum(),\n",
    "                'Promedio Pts': historial['Pts'].mean()\n",
    "            })\n",
    "    \n",
    "    comp_df = pd.DataFrame(comparacion)\n",
    "    print(\"\\nComparación de equipos:\")\n",
    "    print(comp_df.to_string(index=False))\n",
    "    \n",
    "    return comp_df\n",
    "\n",
    "# Ejemplo de uso\n",
    "# comparar_equipos('Manchester United', 'Arsenal', 'Chelsea', 'Liverpool')"
   ]
  },
  {
   "cell_type": "markdown",
   "metadata": {},
   "source": [
    "## 9. Análisis específicos"
   ]
  },
  {
   "cell_type": "code",
   "execution_count": null,
   "metadata": {},
   "outputs": [],
   "source": [
    "# Top 10 mejores temporadas por puntos\n",
    "print(\"Top 10 mejores temporadas por puntos:\")\n",
    "mejores_temporadas = df.nlargest(10, 'Pts')[['Temporada', 'Equipo', 'Pos', 'Pts', 'GF', 'GC']]\n",
    "print(mejores_temporadas.to_string(index=False))"
   ]
  },
  {
   "cell_type": "code",
   "execution_count": null,
   "metadata": {},
   "outputs": [],
   "source": [
    "# Equipos descendidos por temporada (posiciones 18-22)\n",
    "descendidos = df[df['Pos'] >= 18].sort_values(['Temporada', 'Pos'])\n",
    "print(f\"\\nTotal de equipos descendidos: {len(descendidos)}\")\n",
    "print(\"\\nDescensos por temporada:\")\n",
    "print(descendidos[['Temporada', 'Pos', 'Equipo', 'Pts']].to_string(index=False))"
   ]
  },
  {
   "cell_type": "code",
   "execution_count": null,
   "metadata": {},
   "outputs": [],
   "source": [
    "# Análisis de goles\n",
    "print(\"Top 10 equipos con más goles en una temporada:\")\n",
    "mas_goles = df.nlargest(10, 'GF')[['Temporada', 'Equipo', 'GF', 'Pos']]\n",
    "print(mas_goles.to_string(index=False))"
   ]
  },
  {
   "cell_type": "markdown",
   "metadata": {},
   "source": [
    "## 10. Exportar resúmenes"
   ]
  },
  {
   "cell_type": "code",
   "execution_count": null,
   "metadata": {},
   "outputs": [],
   "source": [
    "# Crear resumen ejecutivo\n",
    "resumen = {\n",
    "    'Total_Temporadas': df['Temporada'].nunique(),\n",
    "    'Total_Equipos_Unicos': df['Equipo'].nunique(),\n",
    "    'Total_Partidos': df['PJ'].sum(),\n",
    "    'Total_Goles': df['GF'].sum(),\n",
    "    'Equipos_Siempre_Premier': len(siempre_premier),\n",
    "    'Campeones_Diferentes': campeones['Equipo'].nunique()\n",
    "}\n",
    "\n",
    "print(\"\\nRESUMEN EJECUTIVO - PREMIER LEAGUE\")\n",
    "print(\"=\"*50)\n",
    "for key, value in resumen.items():\n",
    "    print(f\"{key.replace('_', ' ')}: {value:,}\")\n",
    "\n",
    "# Guardar resumen\n",
    "pd.DataFrame([resumen]).to_csv('resumen_premier_league.csv', index=False)\n",
    "print(\"\\n✓ Resumen guardado en 'resumen_premier_league.csv'\")"
   ]
  },
  {
   "cell_type": "markdown",
   "metadata": {},
   "source": [
    "## 11. Consultas personalizadas"
   ]
  },
  {
   "cell_type": "code",
   "execution_count": null,
   "metadata": {},
   "outputs": [],
   "source": [
    "# Aquí puedes hacer tus propias consultas\n",
    "# Ejemplo: Ver historial del Manchester United\n",
    "# ver_historial_equipo('Manchester United')"
   ]
  },
  {
   "cell_type": "code",
   "execution_count": null,
   "metadata": {},
   "outputs": [],
   "source": [
    "# Ejemplo: Ver la temporada 2015-16 (Leicester campeón)\n",
    "# ver_temporada('2015-16')"
   ]
  },
  {
   "cell_type": "code",
   "execution_count": null,
   "metadata": {},
   "outputs": [],
   "source": [
    "# Ejemplo: Comparar los 'Big 6'\n",
    "# comparar_equipos('Manchester United', 'Manchester City', 'Liverpool', 'Arsenal', 'Chelsea', 'Tottenham')"
   ]
  }
 ],
 "metadata": {
  "kernelspec": {
   "display_name": "Python 3",
   "language": "python",
   "name": "python3"
  },
  "language_info": {
   "codemirror_mode": {
    "name": "ipython",
    "version": 3
   },
   "file_extension": ".py",
   "mimetype": "text/x-python",
   "name": "python",
   "nbconvert_exporter": "python",
   "pygments_lexer": "ipython3",
   "version": "3.10.0"
  }
 },
 "nbformat": 4,
 "nbformat_minor": 2
}
